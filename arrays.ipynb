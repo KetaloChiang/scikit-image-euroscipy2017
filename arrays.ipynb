{
 "cells": [
  {
   "cell_type": "markdown",
   "metadata": {},
   "source": [
    "# Manipulating images as digital arrays\n",
    "\n",
    "Images are represented in ``scikit-image`` using standard ``numpy`` arrays.  This allows maximum inter-operability with other libraries in the scientific Python ecosystem, such as ``matplotlib`` and ``scipy``. Moreover, manipulating images as ``numpy`` arrays benefits from the ``numpy`` library itself, with indexing, slicing or custom functions."
   ]
  },
  {
   "cell_type": "code",
   "execution_count": null,
   "metadata": {
    "collapsed": true
   },
   "outputs": [],
   "source": [
    "%matplotlib inline\n",
    "import numpy as np\n",
    "import matplotlib.pyplot as plt"
   ]
  },
  {
   "cell_type": "markdown",
   "metadata": {},
   "source": [
    "Images are numpy array objects."
   ]
  },
  {
   "cell_type": "code",
   "execution_count": null,
   "metadata": {
    "collapsed": true
   },
   "outputs": [],
   "source": [
    "from skimage import data\n",
    "coins = data.coins()"
   ]
  },
  {
   "cell_type": "code",
   "execution_count": null,
   "metadata": {},
   "outputs": [],
   "source": [
    "type(coins)"
   ]
  },
  {
   "cell_type": "code",
   "execution_count": null,
   "metadata": {},
   "outputs": [],
   "source": [
    "plt.imshow(coins, cmap='gray')"
   ]
  },
  {
   "cell_type": "code",
   "execution_count": null,
   "metadata": {},
   "outputs": [],
   "source": [
    "print(\"Pixel value:\", coins[0, 0])\n",
    "print(\"Data type:\", coins.dtype)\n",
    "print(\"Interval of pixel values:\", (coins.min(), coins.max()))\n",
    "print(\"Image dimension:\", coins.shape)"
   ]
  },
  {
   "cell_type": "code",
   "execution_count": null,
   "metadata": {},
   "outputs": [],
   "source": [
    "cat = data.chelsea()\n",
    "plt.imshow(cat)\n",
    "print(cat.shape)"
   ]
  },
  {
   "cell_type": "markdown",
   "metadata": {},
   "source": [
    "These are *just numpy arrays*. Making a red square is easy using just array slicing and manipulation:"
   ]
  },
  {
   "cell_type": "code",
   "execution_count": null,
   "metadata": {},
   "outputs": [],
   "source": [
    "cat[10:110, 10:110, :] = [255, 0, 0]  # [red, green, blue]\n",
    "plt.imshow(cat);"
   ]
  },
  {
   "cell_type": "markdown",
   "metadata": {},
   "source": [
    "### Other shapes, and their meanings\n",
    "\n",
    "|Image type|Coordinates|\n",
    "|:---|:---|\n",
    "|2D grayscale|(row, column)|\n",
    "|2D multichannel|(row, column, channel)|\n",
    "|3D grayscale|(plane, row, column)|\n",
    "|3D multichannel|(plane, row, column, channel)|"
   ]
  },
  {
   "cell_type": "markdown",
   "metadata": {},
   "source": [
    "<div class=\"alert alert-success\">\n",
    "    <b>EXERCISE</b>: modify the cat picture with a 20-pixel black frame around it.\n",
    "\n",
    "![image](cat_frame.png)\n",
    "\n",
    "When you're finished, draw a violet frame instead of a black one.\n",
    "\n",
    "</div>\n",
    "\n",
    "**Stop here. We will discuss the solution together.**"
   ]
  },
  {
   "cell_type": "markdown",
   "metadata": {},
   "source": [
    "## Masks: accessing subsets of images with boolean conditions"
   ]
  },
  {
   "cell_type": "code",
   "execution_count": null,
   "metadata": {},
   "outputs": [],
   "source": [
    "mask_bg = coins < 90\n",
    "coins_bg = np.copy(coins)\n",
    "coins_bg[mask_bg] = 0\n",
    "fig, axes = plt.subplots(ncols=2, figsize=(12, 6))\n",
    "axes[0].imshow(mask_bg, cmap='gray')\n",
    "axes[1].imshow(coins_bg, cmap='gray')"
   ]
  },
  {
   "cell_type": "markdown",
   "metadata": {},
   "source": [
    "<div class=\"alert alert-success\">\n",
    "    <b>EXERCISE:</b> Convert color image to grayscale\n",
    "<br>\n",
    "The *relative luminance* of an image is the intensity of light coming from each point. Different colors contribute differently to the luminance: it's very hard to have a bright, pure blue, for example. So, starting from an RGB image, the luminance is given by:\n",
    "\n",
    "$$\n",
    "Y = 0.2126R + 0.7152G + 0.0722B\n",
    "$$\n",
    "<br>\n",
    "Write a function to convert an RGB image to a grayscale luminance image.\n",
    "<br>\n",
    "Compare your results to that obtained with `skimage.color.rgb2gray`.\n",
    "</div>"
   ]
  },
  {
   "cell_type": "code",
   "execution_count": null,
   "metadata": {},
   "outputs": [],
   "source": [
    "# your solution goes here"
   ]
  },
  {
   "cell_type": "markdown",
   "metadata": {},
   "source": [
    "## Data types of pixel values\n",
    "\n",
    "In literature, one finds different conventions for representing image values:\n",
    "\n",
    "```\n",
    "  0 - 255   where  0 is black, 255 is white\n",
    "  0 - 1     where  0 is black, 1 is white\n",
    "```\n",
    "\n",
    "``scikit-image`` supports both conventions -- the choice is determined by the data-type of the array: [0-1] is for float data-type, while 0 - 255 is for uint8 (and more generally, [0 - 2^n - 1] for n-bits images, since it is possible to open 16-bit tiff images, for example)."
   ]
  },
  {
   "cell_type": "markdown",
   "metadata": {},
   "source": [
    "Careful with overflows with integer data types"
   ]
  },
  {
   "cell_type": "code",
   "execution_count": null,
   "metadata": {},
   "outputs": [],
   "source": [
    "camera = data.camera()\n",
    "print(\"Data type:\", camera.dtype)\n",
    "camera_overflow = 2 * camera\n",
    "fig, axes = plt.subplots(ncols=2, figsize=(10, 5))\n",
    "axes[0].imshow(camera, cmap='gray')\n",
    "axes[1].imshow(camera_overflow, cmap='gray')"
   ]
  },
  {
   "cell_type": "code",
   "execution_count": null,
   "metadata": {},
   "outputs": [],
   "source": [
    "from skimage import img_as_float\n",
    "camera_float = img_as_float(camera)\n",
    "print(\"Max for uint dtype:\", camera.max())\n",
    "print(\"Max for float dtype:\", camera_float.max())"
   ]
  },
  {
   "cell_type": "code",
   "execution_count": null,
   "metadata": {},
   "outputs": [],
   "source": [
    "from skimage import filters\n",
    "camera_gaussian = filters.gaussian(camera, sigma=5)\n",
    "print(\"camera :\", camera.dtype, camera.max())\n",
    "print(\"camera_gaussian:\", camera_gaussian.dtype, camera_gaussian.max())\n",
    "plt.imshow(camera_gaussian, cmap='gray')"
   ]
  },
  {
   "cell_type": "markdown",
   "metadata": {},
   "source": [
    "## Input / output: opening and saving from/to image files\n",
    "\n",
    "Most classical (8-bit) image formats are supported (jpg, png, tiff) by ``skimage.io``, as well as 16-bit tiff images. Float raw data can be opened directly by ``numpy`` functions ``fromfile`` or ``memmap``. Other specialized data formats (HDF5, DICOM, ...) can be opened with specialized libraries (``pytables``, etc.)."
   ]
  },
  {
   "cell_type": "code",
   "execution_count": null,
   "metadata": {},
   "outputs": [],
   "source": [
    "import skimage\n",
    "import os\n",
    "data_dir = skimage.data_dir\n",
    "camera_filename = os.path.join(data_dir, \"camera.png\")\n",
    "print(camera_filename)"
   ]
  },
  {
   "cell_type": "code",
   "execution_count": null,
   "metadata": {},
   "outputs": [],
   "source": [
    "from skimage import io\n",
    "camera = io.imread(camera_filename)\n",
    "plt.imshow(camera, cmap='gray')"
   ]
  },
  {
   "cell_type": "code",
   "execution_count": null,
   "metadata": {},
   "outputs": [],
   "source": [
    "import tempfile\n",
    "tmp_dir = tempfile.mkdtemp()\n",
    "file_name = os.path.join(tmp_dir, \"my_camera.png\")\n",
    "io.imsave(file_name, camera)\n",
    "os.listdir(tmp_dir)"
   ]
  },
  {
   "cell_type": "code",
   "execution_count": null,
   "metadata": {},
   "outputs": [],
   "source": [
    "file_name = os.path.join(tmp_dir, \"gaussian_camera.png\")\n",
    "io.imsave(file_name, camera_gaussian)"
   ]
  }
 ],
 "metadata": {
  "kernelspec": {
   "display_name": "Python 3",
   "language": "python",
   "name": "python3"
  },
  "language_info": {
   "codemirror_mode": {
    "name": "ipython",
    "version": 3
   },
   "file_extension": ".py",
   "mimetype": "text/x-python",
   "name": "python",
   "nbconvert_exporter": "python",
   "pygments_lexer": "ipython3",
   "version": "3.4.3"
  }
 },
 "nbformat": 4,
 "nbformat_minor": 2
}
