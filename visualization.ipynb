{
 "cells": [
  {
   "cell_type": "markdown",
   "metadata": {},
   "source": [
    "# Visualization of image processing\n",
    "\n",
    "When processing images, one should use the fact that final and intermediate results have simple graphical representations, as images, regions or points of interest. This makes interactive image processing easier to verify and faster to improve. \n",
    "\n",
    "Here we show a few examples of how to visualize the results of image processing, using the ``matplotlib`` library.\n",
    "\n",
    "![camera figure](camera_figure.png)"
   ]
  },
  {
   "cell_type": "code",
   "execution_count": null,
   "metadata": {
    "collapsed": true
   },
   "outputs": [],
   "source": [
    "%matplotlib notebook"
   ]
  },
  {
   "cell_type": "code",
   "execution_count": null,
   "metadata": {
    "collapsed": true
   },
   "outputs": [],
   "source": [
    "import numpy as np\n",
    "import matplotlib.pyplot as plt"
   ]
  },
  {
   "cell_type": "markdown",
   "metadata": {},
   "source": [
    "### Displaying images"
   ]
  },
  {
   "cell_type": "code",
   "execution_count": null,
   "metadata": {
    "collapsed": true
   },
   "outputs": [],
   "source": [
    "from skimage import data\n",
    "cat = data.chelsea()"
   ]
  },
  {
   "cell_type": "code",
   "execution_count": null,
   "metadata": {
    "scrolled": true
   },
   "outputs": [],
   "source": [
    "plt.imshow(cat)\n",
    "# remove ticks and labels\n",
    "plt.axis('off')"
   ]
  },
  {
   "cell_type": "code",
   "execution_count": null,
   "metadata": {
    "collapsed": true
   },
   "outputs": [],
   "source": [
    "camera = data.camera()"
   ]
  },
  {
   "cell_type": "code",
   "execution_count": null,
   "metadata": {},
   "outputs": [],
   "source": [
    "plt.figure()\n",
    "plt.imshow(camera)\n",
    "plt.colorbar()"
   ]
  },
  {
   "cell_type": "code",
   "execution_count": null,
   "metadata": {
    "collapsed": true
   },
   "outputs": [],
   "source": [
    "plt.gray()"
   ]
  },
  {
   "cell_type": "markdown",
   "metadata": {},
   "source": [
    "### Interpolation"
   ]
  },
  {
   "cell_type": "code",
   "execution_count": null,
   "metadata": {},
   "outputs": [],
   "source": [
    "a = 1./25 * np.arange(25).reshape((5, 5))  \n",
    "plt.figure()\n",
    "plt.imshow(a)"
   ]
  },
  {
   "cell_type": "code",
   "execution_count": null,
   "metadata": {},
   "outputs": [],
   "source": [
    "plt.figure()\n",
    "plt.imshow(a, interpolation='bicubic')"
   ]
  },
  {
   "cell_type": "markdown",
   "metadata": {},
   "source": [
    "### Contours"
   ]
  },
  {
   "cell_type": "code",
   "execution_count": null,
   "metadata": {},
   "outputs": [],
   "source": [
    "plt.figure()\n",
    "plt.imshow(camera < 40)"
   ]
  },
  {
   "cell_type": "code",
   "execution_count": null,
   "metadata": {
    "scrolled": true
   },
   "outputs": [],
   "source": [
    "plt.figure()\n",
    "plt.imshow(camera)\n",
    "plt.contour(camera, [40], colors='r')"
   ]
  },
  {
   "cell_type": "markdown",
   "metadata": {},
   "source": [
    "Saving figures using ``plt.savefig``. (To save an image array to a file, you can use ``skimage.io.imsave``)."
   ]
  },
  {
   "cell_type": "code",
   "execution_count": null,
   "metadata": {},
   "outputs": [],
   "source": [
    "import tempfile, os\n",
    "tmp_dir = tempfile.mkdtemp()\n",
    "file_name_png = os.path.join(tmp_dir, 'figure.png')\n",
    "plt.savefig(file_name_png)\n",
    "file_name_pdf = os.path.join(tmp_dir, 'figure.pdf')\n",
    "plt.savefig(file_name_pdf)\n",
    "os.listdir(tmp_dir)"
   ]
  },
  {
   "cell_type": "markdown",
   "metadata": {},
   "source": [
    "### Marking pixels/points/coordinates of interest"
   ]
  },
  {
   "cell_type": "code",
   "execution_count": null,
   "metadata": {
    "collapsed": true
   },
   "outputs": [],
   "source": [
    "from skimage import feature"
   ]
  },
  {
   "cell_type": "code",
   "execution_count": null,
   "metadata": {},
   "outputs": [],
   "source": [
    "coords = feature.corner_peaks(feature.corner_harris(camera), min_distance=3)\n",
    "print(coords.shape)"
   ]
  },
  {
   "cell_type": "code",
   "execution_count": null,
   "metadata": {},
   "outputs": [],
   "source": [
    "plt.figure()\n",
    "plt.imshow(camera)\n",
    "plt.plot(coords[:, 1], coords[:, 0], '+y', ms=10)"
   ]
  },
  {
   "cell_type": "markdown",
   "metadata": {},
   "source": [
    "<div class=\"alert alert-success\">\n",
    "    <b>EXERCISE</b>: draw the contours of the darkest regions of the cat image (``data.chelsea()``).\n",
    "\n",
    "</div>\n",
    "\n",
    "For this, convert first the image to the Lab colorspace (using ``color.rgb2lab``). The first (L) channel in Lab colorspace corresponds to the light intensity, while the two others correspond to color information. \n",
    "\n",
    "Then you can plot contours of the L channel of the Lab array, superimposed on the RGB cat image. Indeed, it is possible to have on the same matplotlib plot an image array, and contours of another array, as long as the two arrays have the same numbers of rows and columns. \n",
    "\n",
    "Change the value of the contours to visualize darker and darker regions.\n",
    "\n",
    "Plot a red dot at the (approximate) location of the eyes' pupils.\n",
    "\n",
    "![cat with contours](cat_contour.png)"
   ]
  },
  {
   "cell_type": "code",
   "execution_count": null,
   "metadata": {},
   "outputs": [],
   "source": [
    "# Your solution goes here\n"
   ]
  },
  {
   "cell_type": "markdown",
   "metadata": {},
   "source": [
    "**If you finish the exercise early, you can read through the following bonus materials.**\n",
    "\n",
    "### Drawing shapes"
   ]
  },
  {
   "cell_type": "code",
   "execution_count": null,
   "metadata": {
    "collapsed": true
   },
   "outputs": [],
   "source": [
    "from skimage import draw, transform"
   ]
  },
  {
   "cell_type": "code",
   "execution_count": null,
   "metadata": {
    "scrolled": true
   },
   "outputs": [],
   "source": [
    "plt.figure()\n",
    "coins = data.coins()\n",
    "plt.imshow(coins)\n",
    "from skimage import color\n",
    "coins_color = color.gray2rgb(coins)\n",
    "plt.imshow(coins_color)"
   ]
  },
  {
   "cell_type": "code",
   "execution_count": null,
   "metadata": {},
   "outputs": [],
   "source": [
    "c_rr, c_cc = draw.circle_perimeter(53, 45, 22)\n",
    "coins_color[c_rr, c_cc] = (220, 20, 20)\n",
    "plt.imshow(coins_color[:200, :200])"
   ]
  },
  {
   "cell_type": "markdown",
   "metadata": {},
   "source": [
    "### scikit-image specific visualization functions"
   ]
  },
  {
   "cell_type": "code",
   "execution_count": null,
   "metadata": {},
   "outputs": [],
   "source": [
    "coffee = data.coffee()\n",
    "from skimage import segmentation\n",
    "superpixels = segmentation.slic(coffee)\n",
    "fig, ax = plt.subplots(ncols=2, figsize=(8, 4))\n",
    "ax = ax.ravel()\n",
    "ax[0].imshow(superpixels, cmap='nipy_spectral')\n",
    "ax[1].imshow(segmentation.mark_boundaries(coffee, superpixels))"
   ]
  }
 ],
 "metadata": {
  "kernelspec": {
   "display_name": "Python 3",
   "language": "python",
   "name": "python3"
  },
  "language_info": {
   "codemirror_mode": {
    "name": "ipython",
    "version": 3
   },
   "file_extension": ".py",
   "mimetype": "text/x-python",
   "name": "python",
   "nbconvert_exporter": "python",
   "pygments_lexer": "ipython3",
   "version": "3.4.3"
  }
 },
 "nbformat": 4,
 "nbformat_minor": 2
}
