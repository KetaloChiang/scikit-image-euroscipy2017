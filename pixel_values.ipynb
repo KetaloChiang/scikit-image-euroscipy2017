{
 "cells": [
  {
   "cell_type": "code",
   "execution_count": null,
   "metadata": {
    "collapsed": true
   },
   "outputs": [],
   "source": [
    "%matplotlib inline\n",
    "import numpy as np\n",
    "import matplotlib.pyplot as plt"
   ]
  },
  {
   "cell_type": "markdown",
   "metadata": {},
   "source": [
    "# Transformations based on pixel values\n",
    "\n",
    "![exposure](camera_exposure.png)\n",
    "\n",
    "When we want to modify or access specific parts of the image, one of the simplest ideas is to use local intensity values of pixels. For example, we will see here\n",
    "- how to plot the histogram of pixel values, to know the distribution of light intensity through the image\n",
    "- how to threshold an image to get a binary image\n",
    "- how to change the contrast of an image"
   ]
  },
  {
   "cell_type": "code",
   "execution_count": null,
   "metadata": {},
   "outputs": [],
   "source": [
    "from skimage import data\n",
    "camera = data.camera()\n",
    "plt.imshow(camera, cmap='gray')"
   ]
  },
  {
   "cell_type": "code",
   "execution_count": null,
   "metadata": {
    "collapsed": true
   },
   "outputs": [],
   "source": [
    "from skimage import exposure\n",
    "exposure.histogram??\n",
    "hist, bin_centers = exposure.histogram(camera)"
   ]
  },
  {
   "cell_type": "code",
   "execution_count": null,
   "metadata": {},
   "outputs": [],
   "source": [
    "plt.plot(bin_centers, hist, 'k')\n",
    "plt.xlabel('Intensity values')\n",
    "plt.ylabel('Number of pixels')"
   ]
  },
  {
   "cell_type": "code",
   "execution_count": null,
   "metadata": {},
   "outputs": [],
   "source": [
    "plt.imshow(camera, cmap='gray')\n",
    "cs = plt.contour(camera, [50, 60, 70, 80, 90])\n",
    "plt.colorbar(cs)"
   ]
  },
  {
   "cell_type": "markdown",
   "metadata": {},
   "source": [
    "<div class=\"alert alert-success\">\n",
    "    <b>EXERCISE</b> write a function ``plot_histogram_rgb`` to plot the histogram of the three RGB channels of an image, and execute it for the cat picture.\n",
    "</div>\n",
    "\n",
    "![cat histo](cat_histo.png)"
   ]
  },
  {
   "cell_type": "code",
   "execution_count": null,
   "metadata": {
    "collapsed": true
   },
   "outputs": [],
   "source": [
    "# Your solution goes here\n",
    "# def plot_histogram_rgb(image):\n",
    "#     ...\n",
    "\n",
    "from skimage import exposure\n",
    "\n",
    "\n"
   ]
  },
  {
   "cell_type": "markdown",
   "metadata": {},
   "source": [
    "## Image binarization from histogram thresholding\n",
    "\n",
    "Image binarization is a common task in image processing, for example to separate foreground from background. This can be done by attributing the background (0) or foreground (1) label to each pixel according to its intensity value, given a threshold.\n",
    "\n",
    "Image thresholding can be done either with a user-tuned value, or automatically using a thresholding algorithm. The most common thresholding algorithm is Otsu's algorithm."
   ]
  },
  {
   "cell_type": "code",
   "execution_count": null,
   "metadata": {},
   "outputs": [],
   "source": [
    "binary_camera = camera < 60\n",
    "plt.imshow(binary_camera, cmap='gray')"
   ]
  },
  {
   "cell_type": "code",
   "execution_count": null,
   "metadata": {},
   "outputs": [],
   "source": [
    "from skimage import filters\n",
    "value = filters.threshold_otsu(camera)\n",
    "print(value)\n",
    "mask = camera < value\n",
    "plt.imshow(mask, cmap='gray')"
   ]
  },
  {
   "cell_type": "code",
   "execution_count": null,
   "metadata": {},
   "outputs": [],
   "source": [
    "out = filters.try_all_threshold(camera, figsize=(12, 8), verbose=False)"
   ]
  },
  {
   "cell_type": "markdown",
   "metadata": {},
   "source": [
    "\n",
    "<div class=\"alert alert-success\">\n",
    "    <b>EXERCISE</b>: compare global and local thresholding\n",
    "</div>\n",
    "\n",
    "The coins (``skimage.data.coins``) image has non-uniform illumination, making thresholding more difficult. Compare global (with Otsu as above) and local (with ``filters.threshold_local``) thresholding."
   ]
  },
  {
   "cell_type": "code",
   "execution_count": null,
   "metadata": {},
   "outputs": [],
   "source": [
    "coins = data.coins()\n",
    "plt.imshow(coins, cmap='gray')"
   ]
  },
  {
   "cell_type": "code",
   "execution_count": null,
   "metadata": {},
   "outputs": [],
   "source": [
    "# Global thresholding"
   ]
  },
  {
   "cell_type": "code",
   "execution_count": null,
   "metadata": {},
   "outputs": [],
   "source": [
    "# Local thresholding"
   ]
  },
  {
   "cell_type": "markdown",
   "metadata": {},
   "source": [
    "## Modifying the distribution of intensity values\n",
    "\n",
    "Functions are available for global or local exposure modifications."
   ]
  },
  {
   "cell_type": "code",
   "execution_count": null,
   "metadata": {},
   "outputs": [],
   "source": [
    "equalize = exposure.equalize_hist(camera)\n",
    "plt.imshow(equalize, cmap='gray')"
   ]
  },
  {
   "cell_type": "code",
   "execution_count": null,
   "metadata": {},
   "outputs": [],
   "source": [
    "hist, centers = exposure.histogram(equalize)\n",
    "cum_hist, centers = exposure.cumulative_distribution(equalize)\n",
    "plt.plot(centers, hist)\n",
    "plt.twinx()\n",
    "plt.plot(centers, cum_hist, color='r')"
   ]
  },
  {
   "cell_type": "markdown",
   "metadata": {},
   "source": [
    "## color images\n",
    "\n",
    "Can we apply what we have seen for grayscale images to color images? \n",
    "\n",
    "We can threshold each of the color channels separately. Or, if we're interested in thresholding according to light intensity, it can be better to switch to the Lab colorspace, and use the light intensity (L) channel."
   ]
  },
  {
   "cell_type": "code",
   "execution_count": null,
   "metadata": {
    "collapsed": true
   },
   "outputs": [],
   "source": [
    "from skimage import exposure\n",
    "\n",
    "def plot_histogram_rgb(image, ax=None):\n",
    "    ax = ax if ax is not None else plt.gca()\n",
    "    for i, color in enumerate('rgb'):\n",
    "        hist, bin_centers = exposure.histogram(image[..., i])\n",
    "        ax.fill_between(bin_centers, hist, alpha=0.3, color=color)\n",
    "        ax.plot(bin_centers, hist, color=color, lw=2)\n",
    "        ax.set_xlabel('intensity')\n",
    "        ax.set_ylabel('# pixels')\n"
   ]
  },
  {
   "cell_type": "code",
   "execution_count": null,
   "metadata": {},
   "outputs": [],
   "source": [
    "from skimage import data, io\n",
    "beach = io.imread('Bells-Beach.jpg')\n",
    "plt.imshow(beach)"
   ]
  },
  {
   "cell_type": "code",
   "execution_count": null,
   "metadata": {},
   "outputs": [],
   "source": [
    "plot_histogram_rgb(beach)"
   ]
  },
  {
   "cell_type": "code",
   "execution_count": null,
   "metadata": {
    "collapsed": true
   },
   "outputs": [],
   "source": [
    "from skimage import color\n",
    "beach_lab = color.rgb2lab(beach)"
   ]
  },
  {
   "cell_type": "code",
   "execution_count": null,
   "metadata": {},
   "outputs": [],
   "source": [
    "plot_histogram_rgb(beach_lab)"
   ]
  },
  {
   "cell_type": "code",
   "execution_count": null,
   "metadata": {},
   "outputs": [],
   "source": [
    "plt.imshow(beach)\n",
    "plt.contourf(beach_lab[..., 2] > 0, alpha=0.3, cmap='jet')"
   ]
  },
  {
   "cell_type": "markdown",
   "metadata": {
    "collapsed": true
   },
   "source": [
    "Going further: here we have used only the light intensity information about the image. To use all the channels, including color information, one can use [clustering methods](https://github.com/scikit-image/skimage-tutorials/blob/master/lectures/machine_learning_solutions.ipynb)."
   ]
  }
 ],
 "metadata": {
  "kernelspec": {
   "display_name": "Python 3",
   "language": "python",
   "name": "python3"
  },
  "language_info": {
   "codemirror_mode": {
    "name": "ipython",
    "version": 3
   },
   "file_extension": ".py",
   "mimetype": "text/x-python",
   "name": "python",
   "nbconvert_exporter": "python",
   "pygments_lexer": "ipython3",
   "version": "3.4.3"
  }
 },
 "nbformat": 4,
 "nbformat_minor": 2
}
